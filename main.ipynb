{
 "cells": [
  {
   "cell_type": "markdown",
   "metadata": {},
   "source": [
    "# Sistema de biblioteca virtual"
   ]
  },
  {
   "cell_type": "code",
   "execution_count": 1,
   "metadata": {},
   "outputs": [],
   "source": [
    "import json\n"
   ]
  },
  {
   "cell_type": "code",
   "execution_count": 9,
   "metadata": {},
   "outputs": [
    {
     "name": "stdout",
     "output_type": "stream",
     "text": [
      "Arquivo JSON \"livros.json\" criado com sucesso.\n"
     ]
    }
   ],
   "source": [
    "\n",
    "livros = [\n",
    "    {\"titulo\": \"Apanhador no Campo de Centeio\", \"autor\": \"J.D. Salinger\", \"genero\": \"Ficção\"},\n",
    "    {\"titulo\": \"A Metamorfose\", \"autor\": \"Franz Kafka\", \"genero\": \"Ficção Absurda\"},\n",
    "    {\"titulo\": \"O Nome do Vento\", \"autor\": \"Patrick Rothfuss\", \"genero\": \"Fantasia\"},\n",
    "    {\"titulo\": \"O Poder do Hábito\", \"autor\": \"Charles Duhigg\", \"genero\": \"Não Ficção\"},\n",
    "    {\"titulo\": \"O Hobbit\", \"autor\": \"J.R.R. Tolkien\", \"genero\": \"Fantasia\"}\n",
    "]\n",
    "\n",
    "# Nome do arquivo JSON que você deseja criar\n",
    "acervo = 'livros.json'\n",
    "\n",
    "# Escreva os dados no arquivo JSON\n",
    "with open(acervo, 'w') as arquivo_json:\n",
    "    json.dump(livros, arquivo_json)\n",
    "\n",
    "print(f'Arquivo JSON \"{acervo}\" criado com sucesso.')\n"
   ]
  },
  {
   "cell_type": "code",
   "execution_count": 14,
   "metadata": {},
   "outputs": [
    {
     "name": "stdout",
     "output_type": "stream",
     "text": [
      "Título: Apanhador no Campo de Centeio, Autor: J.D. Salinger, Gênero: Ficção\n",
      "Título: A Metamorfose, Autor: Franz Kafka, Gênero: Ficção Absurda\n",
      "Título: O Nome do Vento, Autor: Patrick Rothfuss, Gênero: Fantasia\n",
      "Título: O Poder do Hábito, Autor: Charles Duhigg, Gênero: Não Ficção\n",
      "Título: O Hobbit, Autor: J.R.R. Tolkien, Gênero: Fantasia\n"
     ]
    }
   ],
   "source": [
    "def listar_livros(arquivo_json):\n",
    "    with open(arquivo_json, 'r') as arquivo:\n",
    "        livros = json.load(arquivo)\n",
    "        for livro in livros:\n",
    "            print(f'Título: {livro[\"titulo\"]}, Autor: {livro[\"autor\"]}, Gênero: {livro[\"genero\"]}')\n",
    "\n",
    "\n",
    "acervo = 'livros.json'\n",
    "\n",
    "# Chamar a função para listar todos os livros\n",
    "listar_livros(acervo)\n"
   ]
  }
 ],
 "metadata": {
  "kernelspec": {
   "display_name": "Python 3",
   "language": "python",
   "name": "python3"
  },
  "language_info": {
   "codemirror_mode": {
    "name": "ipython",
    "version": 3
   },
   "file_extension": ".py",
   "mimetype": "text/x-python",
   "name": "python",
   "nbconvert_exporter": "python",
   "pygments_lexer": "ipython3",
   "version": "3.9.11"
  }
 },
 "nbformat": 4,
 "nbformat_minor": 2
}
